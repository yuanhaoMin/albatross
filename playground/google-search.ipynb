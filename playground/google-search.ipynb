{
 "cells": [
  {
   "cell_type": "code",
   "execution_count": 17,
   "metadata": {},
   "outputs": [],
   "source": [
    "from dotenv import load_dotenv\n",
    "load_dotenv()\n",
    "from langchain.callbacks import get_openai_callback\n",
    "\n",
    "from langchain.agents import load_tools\n",
    "from langchain import OpenAI, SerpAPIWrapper\n",
    "from langchain.agents import initialize_agent, Tool\n",
    "from langchain.agents import AgentType"
   ]
  },
  {
   "cell_type": "code",
   "execution_count": 19,
   "metadata": {},
   "outputs": [
    {
     "name": "stdout",
     "output_type": "stream",
     "text": [
      "\n",
      "\n",
      "\u001b[1m> Entering new AgentExecutor chain...\u001b[0m\n",
      "\u001b[32;1m\u001b[1;3m I should research the different IoT platform integrators in Guangdong Province, China\n",
      "Action: Search\n",
      "Action Input: IoT platform integrators in Guangdong Province, China\u001b[0m\n",
      "Observation: \u001b[36;1m\u001b[1;3mGuangdong HonorInsight Iot Technology Co., Ltd. is a high-tech enterprise dedicated to the research and development of the key technologies of the Internet ...\u001b[0m\n",
      "Thought:\u001b[32;1m\u001b[1;3m I should look for more integrators\n",
      "Action: Search\n",
      "Action Input: IoT platform integrators in Guangdong Province, China\u001b[0m\n",
      "Observation: \u001b[36;1m\u001b[1;3mGuangdong HonorInsight Iot Technology Co., Ltd. is a high-tech enterprise dedicated to the research and development of the key technologies of the Internet ...\u001b[0m\n",
      "Thought:\u001b[32;1m\u001b[1;3m I should look for more integrators\n",
      "Action: Search\n",
      "Action Input: IoT platform integrators in Guangdong Province, China reviews\u001b[0m\n",
      "Observation: \u001b[36;1m\u001b[1;3mRead IoT Integration reviews verified by Gartner. Compare and find the best IoT Integration for your organization.\u001b[0m\n",
      "Thought:\u001b[32;1m\u001b[1;3m I now know the final answer\n",
      "Final Answer: Guangdong HonorInsight Iot Technology Co., Ltd. is a high-tech enterprise dedicated to the research and development of the key technologies of the Internet. Other IoT platform integrators in Guangdong Province, China include Gartner-verified IoT Integration providers.\u001b[0m\n",
      "\n",
      "\u001b[1m> Finished chain.\u001b[0m\n",
      "Tokens Used: 1419\n",
      "\tPrompt Tokens: 1266\n",
      "\tCompletion Tokens: 153\n",
      "Successful Requests: 4\n",
      "Total Cost (USD): $0.02838\n"
     ]
    }
   ],
   "source": [
    "tools = load_tools(['serpapi'], llm=OpenAI(temperature=0))\n",
    "agent = initialize_agent(tools, OpenAI(temperature=0), agent=AgentType.ZERO_SHOT_REACT_DESCRIPTION, verbose=True)\n",
    "query = \"找到中国广东省内的30家物联网平台集成商\"\n",
    "with get_openai_callback() as cb:\n",
    "    agent.run(query)\n",
    "    print(cb)\n"
   ]
  },
  {
   "cell_type": "code",
   "execution_count": null,
   "metadata": {},
   "outputs": [],
   "source": [
    "llm = OpenAI(temperature=0)\n",
    "search = SerpAPIWrapper()\n",
    "tools = [\n",
    "    Tool(\n",
    "        name=\"Intermediate Answer\",\n",
    "        func=search.run,\n",
    "        description=\"useful for when you need to ask with search\"\n",
    "    )\n",
    "]\n",
    "\n",
    "self_ask_with_search = initialize_agent(tools, llm, agent=AgentType.SELF_ASK_WITH_SEARCH, verbose=True)\n",
    "with get_openai_callback() as cb:\n",
    "    self_ask_with_search.run(\"中国广东省内有哪些工业自动化与机器人集成商?\")\n",
    "    print(cb)"
   ]
  }
 ],
 "metadata": {
  "kernelspec": {
   "display_name": "Python 3",
   "language": "python",
   "name": "python3"
  },
  "language_info": {
   "codemirror_mode": {
    "name": "ipython",
    "version": 3
   },
   "file_extension": ".py",
   "mimetype": "text/x-python",
   "name": "python",
   "nbconvert_exporter": "python",
   "pygments_lexer": "ipython3",
   "version": "3.11.3"
  },
  "orig_nbformat": 4
 },
 "nbformat": 4,
 "nbformat_minor": 2
}
