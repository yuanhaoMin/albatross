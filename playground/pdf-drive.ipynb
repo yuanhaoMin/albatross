{
 "cells": [
  {
   "cell_type": "code",
   "execution_count": 18,
   "metadata": {},
   "outputs": [],
   "source": [
    "import config\n",
    "from langchain.document_loaders import GoogleDriveLoader\n",
    "from langchain.llms import OpenAI\n",
    "import os"
   ]
  },
  {
   "cell_type": "code",
   "execution_count": 24,
   "metadata": {},
   "outputs": [],
   "source": [
    "loader = GoogleDriveLoader(document_ids=[\"1OZ9YMZANmOgR1-_m3VqqNFDJITVzm52ywgzh1uzmaYw\"], credentials_path=\"conf/client_secret_google.json\")\n",
    "docs = loader.load()"
   ]
  },
  {
   "attachments": {},
   "cell_type": "markdown",
   "metadata": {},
   "source": [
    "**Summarizing**"
   ]
  },
  {
   "cell_type": "code",
   "execution_count": 23,
   "metadata": {},
   "outputs": [
    {
     "name": "stdout",
     "output_type": "stream",
     "text": [
      "\n",
      "\n",
      "\u001b[1m> Entering new MapReduceDocumentsChain chain...\u001b[0m\n",
      "\n",
      "\n",
      "\u001b[1m> Entering new LLMChain chain...\u001b[0m\n",
      "Prompt after formatting:\n",
      "\u001b[32;1m\u001b[1;3mWrite a concise summary of the following:\n",
      "\n",
      "\n",
      "\"﻿绩效考核标准\n",
      "考核要点（加分项及扣分项）\n",
      "\n",
      "\n",
      "(一)加分项\n",
      "\n",
      "\n",
      "工作日加班：19:00开始计算；\n",
      "计算法方式：小时为单位，每小时/0.25分（不足一小时按半小时记0.125分），每日最多记2分（每日晚加班时间从19:00开始计算，外出、忘打卡不计算）。\n",
      "\n",
      "\n",
      "2.节假日加班：正常工作时间（9:00-18:00)，除正常工作时间外，节假日其余时间则不计入加班工时，一天最多为7.5小时,其中不包含午休时间（12:00-13:30），（每日晚加班时间从19:00开始计算，外出、忘打卡不计算）；\n",
      "计算法方式：小时为单位，每小时/0.125分（不足一小时按半小时记0.0625分）。\n",
      "\n",
      "\n",
      "3.外出支持：拜访客户、考查供应商、施工、外测、投标等外出事项（不包含公司组织活动）。\n",
      "计算法方式：小时为单位，每小时/0.025分（不足一小时按半小时记0.0125分），（每日晚加班时间从19:00开始计算）。\n",
      "\n",
      "\n",
      "*上述时间统计，以钉钉系统统计时间为准，如外出、周末加班未提交申请，则不计入考核分数。\n",
      "每周提交周报时，需将加班、外出、请假时间统计在周报表里。提交月度工作总结时，需将每周加班、外出、请假时间汇总。\n",
      "\n",
      "\n",
      "4.领导考核项：\n",
      "            工作完成度：工作目标达成，成果多且突出，根据完成比例1～30分计入考核中，15分表示正常完成当月任务。（评分标准如下图）\n",
      "评分等级\n",
      "评分标准\n",
      "A=30～20(优秀/出色表现)\n",
      "工作提前完成，且完成质量优秀；\n",
      "在工作中有自己优化的策略、独特见解和总结，对后续   开展类似工作有很好的指导意义。\n",
      "B=19～10（称职）\n",
      "工作按时完成；\n",
      "工作完成质量良好。\n",
      "C=9～0（待改进）\n",
      "无法按时完成工作，需要时刻推动；\n",
      "无主观完成工作意识，工作完成质量差。\n",
      "\n",
      "\n",
      "        \n",
      "  *每月员工需提交月度工作总结，部门经理由工作总结进行评分。\n",
      "\n",
      "\n",
      "            关键事件：技术、客户、市场突破等，根据工作难度1～5分。\n",
      "            承担责任：担任项目经理之类或管理岗位，根据岗位强度，记1～5分。\n",
      "            职位：身兼多职，根据岗位数量1～5分。（一个职位记1分，两个职位记3\n",
      "分，三个职位或三个以上记5分）\n",
      "\n",
      "\n",
      " *此项根据当月工作完成情况在月底打分，由部门经理及总经理评分。\n",
      "\n",
      "\n",
      "5.半年工作述职汇报：\n",
      "内容：每半年PPT汇报工作总结，全员讲解。\n",
      "分数：满分15分，由考评组进行打分，打分计入半年度绩效考核总分。\n",
      "考评组：部门负责人以及公司高层管理人员。\n",
      "\n",
      "\n",
      "\n",
      "\n",
      "（二）扣分项\n",
      "扣分标准根据以下内容严格执行：\n",
      "违规条款\n",
      "违规内容（例如）\n",
      "参考标准\n",
      "恶意破坏\n",
      "故意损坏公司财物等\n",
      "10～15分\n",
      "弄虚作假\n",
      "主观恶意、不诚信等\n",
      "5～10分\n",
      "消极怠工\n",
      "工作不认真、上报虚假结果、影响公司利益等\n",
      "1～5分\n",
      "影响客户\n",
      "接待客户、沟通敷衍、有损公司形象等\n",
      "1～5分\n",
      "影响团队\n",
      "团体活动不配合、破坏公司氛围等\n",
      "1~5分\n",
      "影响项目\n",
      "影响公司签单、交付、回款等\n",
      "1～5分\n",
      "违反制度\n",
      "违反公司制度、规范等\n",
      "1～5分\n",
      "总分\n",
      "50分\n",
      "\n",
      "\n",
      "*此项由部门经理及总经理评分，如遇情节严重，追究刑事责任。\n",
      "\n",
      "\n",
      "请假扣分项：\n",
      "            每月请假不得超过4天，4天以上按扣分处理。（其中包含所有请假事项，公司调休假期则不计入扣分项）\n",
      "扣分计算方式：\n",
      "小时为单位，每小时/0.25分（不足一小时按半小时记0.125分），每日最多记2分。\n",
      "迟到扣分项：\n",
      "            每月迟到次数3次以下扣0.5分/次（含三次），3次以上扣1分/次，每月扣分上限5分。\n",
      "旷工扣分项：旷工人员当月绩效为0分。\n",
      "\n",
      "\n",
      "二、考核时间、分数\n",
      "时间：每月考核一次，半年度进行总评分（月度及半年度按照部门内部进行排名，部门划分为：研发部、市场部、支撑部门），每月10日公示。\n",
      "2.月度考核分数：月度考评分数=加分项-扣分项。\n",
      "3.半年度考核分数：半年度考评分数=月度考评分数总和+半年度述职报告总分。\n",
      "\n",
      "\n",
      "三、奖金分配原则\n",
      "1.奖金分配标准由半年度绩效考核分数汇总进行排名，分为优秀、称职、待改进。\n",
      "2.奖金计算如下：\n",
      "根据半年经营收入情况计算出总奖金。\n",
      "月度绩效奖金=(800/公司总人数) *部门人数，每部门第1名获得月度奖金。\n",
      "半年度绩效奖金：奖金根据排名及个人工资基数进行比例发放。\n",
      "\n",
      "\n",
      "四、其它条例\n",
      "1.考核分数无上限，根据部门内排名及个人薪资确定奖金。\n",
      "2.每半年进行一次绩效考核奖金分配，即考核结束，与当月工资一同发放。\n",
      "3.本考核制度做到公平公正，如对考核结果有异议者可提出申诉，经调查结果属实，可给予纠正，并对相关责任人进行处理。\"\n",
      "\n",
      "\n",
      "CONCISE SUMMARY:\u001b[0m\n",
      "\n",
      "\u001b[1m> Finished chain.\u001b[0m\n",
      "\n",
      "\n",
      "\u001b[1m> Entering new StuffDocumentsChain chain...\u001b[0m\n",
      "\n",
      "\n",
      "\u001b[1m> Entering new LLMChain chain...\u001b[0m\n",
      "Prompt after formatting:\n",
      "\u001b[32;1m\u001b[1;3mWrite a concise summary of the following:\n",
      "\n",
      "\n",
      "\" This performance assessment standard outlines criteria for awarding points for overtime, holidays, and other work-related activities, as well as deductions for violations of company policy, absenteeism, and lateness. The assessment is conducted monthly and semi-annually, with bonuses distributed based on rankings and individual salary. Appeals are allowed if the assessment results are disputed.\"\n",
      "\n",
      "\n",
      "CONCISE SUMMARY:\u001b[0m\n",
      "\n",
      "\u001b[1m> Finished chain.\u001b[0m\n",
      "\n",
      "\u001b[1m> Finished chain.\u001b[0m\n",
      "\n",
      "\u001b[1m> Finished chain.\u001b[0m\n"
     ]
    },
    {
     "data": {
      "text/plain": [
       "' This performance assessment standard outlines criteria for awarding points and deductions based on overtime, holidays, and other work-related activities, as well as violations of company policy, absenteeism, and lateness. The assessment is conducted monthly and semi-annually, with bonuses distributed based on rankings and individual salary. Appeals are allowed if the assessment results are disputed.'"
      ]
     },
     "execution_count": 23,
     "metadata": {},
     "output_type": "execute_result"
    }
   ],
   "source": [
    "from langchain.chains.summarize import load_summarize_chain\n",
    "llm = OpenAI(temperature=0)\n",
    "chain = load_summarize_chain(llm, chain_type=\"map_reduce\", verbose=True)\n",
    "chain.run(docs)"
   ]
  },
  {
   "attachments": {},
   "cell_type": "markdown",
   "metadata": {},
   "source": [
    "**Asking Question**"
   ]
  },
  {
   "cell_type": "code",
   "execution_count": 28,
   "metadata": {},
   "outputs": [
    {
     "data": {
      "text/plain": [
       "builtin_function_or_method"
      ]
     },
     "execution_count": 28,
     "metadata": {},
     "output_type": "execute_result"
    }
   ],
   "source": []
  }
 ],
 "metadata": {
  "kernelspec": {
   "display_name": "Python 3",
   "language": "python",
   "name": "python3"
  },
  "language_info": {
   "codemirror_mode": {
    "name": "ipython",
    "version": 3
   },
   "file_extension": ".py",
   "mimetype": "text/x-python",
   "name": "python",
   "nbconvert_exporter": "python",
   "pygments_lexer": "ipython3",
   "version": "3.11.3"
  },
  "orig_nbformat": 4
 },
 "nbformat": 4,
 "nbformat_minor": 2
}
